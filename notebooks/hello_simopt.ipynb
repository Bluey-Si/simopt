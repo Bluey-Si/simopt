{
 "cells": [
  {
   "cell_type": "code",
   "execution_count": null,
   "metadata": {},
   "outputs": [],
   "source": [
    "# Import the simopt module\n",
    "import os\n",
    "\n",
    "os.chdir(\"../\")  # Move one level up to import simopt\n",
    "\n",
    "# Import experiment_base module, which contains functions for experimentation.\n",
    "import simopt.experiment_base  # noqa: E402"
   ]
  },
  {
   "cell_type": "code",
   "execution_count": null,
   "metadata": {},
   "outputs": [],
   "source": [
    "# Create an instance of the ProblemSolver class for the given solver and problem\n",
    "solver_name = \"ASTRODF\"\n",
    "problem_name = \"CNTNEWS-1\"\n",
    "myexperiment = simopt.experiment_base.ProblemSolver(solver_name, problem_name)\n",
    "# Run the experiment with a specified number of macro-repetitions\n",
    "num_macroreps = 10\n",
    "myexperiment.run(n_macroreps=num_macroreps)"
   ]
  },
  {
   "cell_type": "code",
   "execution_count": null,
   "metadata": {},
   "outputs": [],
   "source": [
    "# Post-process the results\n",
    "num_postreps = 200\n",
    "myexperiment.post_replicate(n_postreps=num_postreps)"
   ]
  },
  {
   "cell_type": "code",
   "execution_count": null,
   "metadata": {},
   "outputs": [],
   "source": [
    "# Normalize the results\n",
    "num_postreps_init_opt = 200\n",
    "simopt.experiment_base.post_normalize(\n",
    "    experiments=[myexperiment], n_postreps_init_opt=num_postreps_init_opt\n",
    ")"
   ]
  },
  {
   "cell_type": "code",
   "execution_count": null,
   "metadata": {},
   "outputs": [],
   "source": [
    "# Record the results and plot the mean progress curve.\n",
    "myexperiment.log_experiment_results()\n",
    "simopt.experiment_base.plot_progress_curves(\n",
    "    experiments=[myexperiment],\n",
    "    plot_type=simopt.experiment_base.PlotType.MEAN,\n",
    "    normalize=False,\n",
    ")"
   ]
  }
 ],
 "metadata": {
  "kernelspec": {
   "display_name": "simopt",
   "language": "python",
   "name": "python3"
  },
  "language_info": {
   "codemirror_mode": {
    "name": "ipython",
    "version": 3
   },
   "file_extension": ".py",
   "mimetype": "text/x-python",
   "name": "python",
   "nbconvert_exporter": "python",
   "pygments_lexer": "ipython3",
   "version": "3.13.3"
  }
 },
 "nbformat": 4,
 "nbformat_minor": 2
}
