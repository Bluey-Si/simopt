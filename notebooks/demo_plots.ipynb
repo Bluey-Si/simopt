{
 "cells": [
  {
   "cell_type": "markdown",
   "id": "0",
   "metadata": {},
   "source": [
    "# Demo Plotting Script.\n",
    "\n",
    "This script is intended to help with debugging problems and solvers.\n",
    "\n",
    "It create a problem-solver pairing (using the directory) and runs multiple macroreplications of the solver on the problem."
   ]
  },
  {
   "cell_type": "markdown",
   "id": "1",
   "metadata": {},
   "source": [
    "## Initial Setup\n",
    "\n",
    "Import the necessary libraries and modules for the data farming experiment."
   ]
  },
  {
   "cell_type": "code",
   "execution_count": null,
   "id": "2",
   "metadata": {},
   "outputs": [],
   "source": [
    "import sys\n",
    "from pathlib import Path\n",
    "\n",
    "# Get the current working directory\n",
    "# This should be where the .ipynb file itself resides when launched\n",
    "current_dir = Path.cwd()\n",
    "\n",
    "# Construct the path to the directory containing 'simopt'\n",
    "# This assumes 'simopt' is one level up from the current directory\n",
    "simopt_parent_dir = current_dir.parent\n",
    "\n",
    "# Convert the simopt folder Path object to a string and add to sys.path\n",
    "sys.path.append(str(simopt_parent_dir))\n",
    "\n",
    "# Import the ProblemSolver class and other useful functions\n",
    "from simopt.experiment_base import (  # noqa: E402\n",
    "    PlotType,\n",
    "    ProblemSolver,\n",
    "    plot_terminal_progress,\n",
    "    post_normalize,\n",
    "    read_experiment_results,\n",
    ")"
   ]
  },
  {
   "cell_type": "code",
   "execution_count": null,
   "id": "3",
   "metadata": {},
   "outputs": [],
   "source": [
    "solver_names = {\"RNDSRCH\", \"ASTRODF\", \"NELDMD\"}\n",
    "problem_names = {\"SAN-1\"}  # CNTNEWS-1\"} #, \"SAN-1\"}\n",
    "# solver_name = \"RNDSRCH\"  # Random search solver\n",
    "# problem_name = \"CNTNEWS-1\"  # Continuous newsvendor problem\n",
    "# solver_name = <solver_name>\n",
    "# problem_name = <problem_name>\n",
    "\n",
    "myexperiments: list[ProblemSolver] = []\n",
    "for problem_name in problem_names:\n",
    "    problem_experiments = []\n",
    "    for solver_name in solver_names:\n",
    "        print(f\"Testing solver {solver_name} on problem {problem_name}.\")\n",
    "        # Initialize an instance of the experiment class.\n",
    "        myexperiment = ProblemSolver(solver_name, problem_name)\n",
    "\n",
    "        # Run a fixed number of macroreplications of the solver on the problem.\n",
    "        myexperiment.run(n_macroreps=10)\n",
    "\n",
    "        # If the solver runs have already been performed, uncomment the\n",
    "        # following pair of lines (and uncommmen the myexperiment.run(...)\n",
    "        # line above) to read in results from a .pickle file.\n",
    "        file_name = solver_name + \"_on_\" + problem_name + \".pickle\"\n",
    "        myexperiment = read_experiment_results(file_name)\n",
    "\n",
    "        print(\"Post-processing results.\")\n",
    "        # Run a fixed number of postreplications at all recommended solutions.\n",
    "        myexperiment.post_replicate(n_postreps=200)\n",
    "\n",
    "        problem_experiments.append(myexperiment)\n",
    "\n",
    "    # Find an optimal solution x* for normalization.\n",
    "    post_normalize(problem_experiments, n_postreps_init_opt=200)\n",
    "\n",
    "    # Add the experiments for this problem to the main list.\n",
    "    myexperiments.extend(problem_experiments)"
   ]
  },
  {
   "cell_type": "code",
   "execution_count": null,
   "id": "4",
   "metadata": {},
   "outputs": [],
   "source": [
    "\n",
    "print(\"Plotting results.\")\n",
    "# Produce basic plots.\n",
    "plot_terminal_progress(\n",
    "    experiments=myexperiments, plot_type=PlotType.BOX, normalize=False\n",
    ")\n",
    "plot_terminal_progress(\n",
    "    experiments=myexperiments, plot_type=PlotType.BOX, normalize=True\n",
    ")\n",
    "plot_terminal_progress(\n",
    "    experiments=myexperiments,\n",
    "    plot_type=PlotType.VIOLIN,\n",
    "    normalize=False,\n",
    "    all_in_one=False,\n",
    ")\n",
    "plot_terminal_progress(\n",
    "    experiments=myexperiments, plot_type=PlotType.VIOLIN, normalize=True\n",
    ")\n",
    "# plot_terminal_scatterplots(experiments = myexperiments, all_in_one=False)\n",
    "\n",
    "# Plots will be saved in the folder experiments/plots.\n",
    "print(\"Finished. Plots can be found in experiments/plots folder.\")"
   ]
  }
 ],
 "metadata": {
  "kernelspec": {
   "display_name": "simopt",
   "language": "python",
   "name": "python3"
  },
  "language_info": {
   "codemirror_mode": {
    "name": "ipython",
    "version": 3
   },
   "file_extension": ".py",
   "mimetype": "text/x-python",
   "name": "python",
   "nbconvert_exporter": "python",
   "pygments_lexer": "ipython3",
   "version": "3.13.3"
  }
 },
 "nbformat": 4,
 "nbformat_minor": 5
}
