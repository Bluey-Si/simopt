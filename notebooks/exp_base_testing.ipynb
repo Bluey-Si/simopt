{
 "cells": [
  {
   "cell_type": "markdown",
   "id": "0",
   "metadata": {},
   "source": [
    "# Demo for the ProblemsSolvers class.\n",
    "\n",
    "This script is intended to help with running a data-farming experiment on a solver.\n",
    "\n",
    "It creates a design of solver factors and runs multiple macroreplications at each version of the solver.\n",
    "\n",
    "Outputs are printed to a file."
   ]
  },
  {
   "cell_type": "markdown",
   "id": "1",
   "metadata": {},
   "source": [
    "## Initial Setup\n",
    "\n",
    "Import the necessary libraries and modules for the data farming experiment."
   ]
  },
  {
   "cell_type": "code",
   "execution_count": null,
   "id": "2",
   "metadata": {},
   "outputs": [],
   "source": [
    "import sys\n",
    "from pathlib import Path\n",
    "\n",
    "# Get the current working directory\n",
    "# This should be where the .ipynb file itself resides when launched\n",
    "current_dir = Path.cwd()\n",
    "\n",
    "# Construct the path to the directory containing 'simopt'\n",
    "# This assumes 'simopt' is one level up from the current directory\n",
    "simopt_parent_dir = current_dir.parent\n",
    "\n",
    "# Convert the simopt folder Path object to a string and add to sys.path\n",
    "sys.path.append(str(simopt_parent_dir))\n",
    "\n",
    "from simopt.experiment_base import ProblemsSolvers  # noqa: E402"
   ]
  },
  {
   "cell_type": "code",
   "execution_count": null,
   "id": "3",
   "metadata": {},
   "outputs": [],
   "source": [
    "# Specify the name of the solver as it appears in directory.py\n",
    "\n",
    "solver_names = [\"RNDSRCH\", \"RNDSRCH\", \"ASTRODF\"]\n",
    "\n",
    "solver_renames = [\"RND_test1\", \"RND_test2\", \"AST_test\"]\n",
    "\n",
    "problem_names = [\"EXAMPLE-1\", \"CNTNEWS-1\"]\n",
    "\n",
    "problem_renames = [\"EX_test\", \"NEWS_test\"]\n",
    "\n",
    "experiment_name = \"test_exp\"\n",
    "\n",
    "solver_factors = [{}, {\"sample_size\": 2}, {}]\n",
    "\n",
    "problem_factors = [{}, {}]\n",
    "\n",
    "# Create ProblemsSovlers experiment with solver and model design\n",
    "experiment = ProblemsSolvers(\n",
    "    solver_factors=solver_factors,\n",
    "    problem_factors=problem_factors,\n",
    "    solver_names=solver_names,\n",
    "    problem_names=problem_names,\n",
    "    solver_renames=solver_renames,\n",
    "    problem_renames=problem_renames,\n",
    "    experiment_name=experiment_name,\n",
    "    create_pair_pickles=True,\n",
    ")\n",
    "\n",
    "# check compatibility of selected solvers and problems\n",
    "experiment.check_compatibility()\n",
    "\n",
    "# Run macroreplications at each design point.\n",
    "experiment.run(2)\n",
    "\n",
    "# Postprocess the experimental results from each design point.\n",
    "experiment.post_replicate(10)\n",
    "experiment.post_normalize(10)\n",
    "\n",
    "# Record and log results\n",
    "experiment.record_group_experiment_results()\n",
    "experiment.log_group_experiment_results()\n",
    "experiment.report_group_statistics()"
   ]
  }
 ],
 "metadata": {
  "language_info": {
   "name": "python"
  }
 },
 "nbformat": 4,
 "nbformat_minor": 5
}
