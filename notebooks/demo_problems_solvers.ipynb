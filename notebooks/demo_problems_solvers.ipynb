{
 "cells": [
  {
   "cell_type": "markdown",
   "id": "0",
   "metadata": {},
   "source": [
    "# Demo for the ProblemsSolvers class.\n",
    "\n",
    "This script is intended to help with debugging problems and solvers.\n",
    "\n",
    "It create problem-solver groups (using the directory) and runs multiple macroreplications of each problem-solver pair."
   ]
  },
  {
   "cell_type": "markdown",
   "id": "1",
   "metadata": {},
   "source": [
    "## Initial Setup\n",
    "\n",
    "Import the necessary libraries and modules for the data farming experiment."
   ]
  },
  {
   "cell_type": "code",
   "execution_count": null,
   "id": "2",
   "metadata": {},
   "outputs": [],
   "source": [
    "import sys\n",
    "from pathlib import Path\n",
    "\n",
    "# Get the current working directory\n",
    "# This should be where the .ipynb file itself resides when launched\n",
    "current_dir = Path.cwd()\n",
    "\n",
    "# Construct the path to the directory containing 'simopt'\n",
    "# This assumes 'simopt' is one level up from the current directory\n",
    "simopt_parent_dir = current_dir.parent\n",
    "\n",
    "# Convert the simopt folder Path object to a string and add to sys.path\n",
    "sys.path.append(str(simopt_parent_dir))\n",
    "\n",
    "# Import the ProblemsSolvers class and other useful functions\n",
    "from simopt.experiment_base import (  # noqa: E402\n",
    "    PlotType,\n",
    "    ProblemsSolvers,\n",
    "    plot_solvability_profiles,\n",
    ")\n"
   ]
  },
  {
   "cell_type": "code",
   "execution_count": null,
   "id": "3",
   "metadata": {},
   "outputs": [],
   "source": [
    "\n",
    "# !! When testing a new solver/problem, first go to directory.py.\n",
    "# There you should add the import statement and an entry in the respective\n",
    "# dictionary (or dictionaries).\n",
    "# See directory.py for more details.\n",
    "\n",
    "# Specify the names of the solver and problem to test.\n",
    "# These names are strings and should match those input to directory.py.\n",
    "# Ex:\n",
    "solver_names = [\"RNDSRCH\", \"ASTRODF\", \"NELDMD\"]\n",
    "problem_names = [\"CNTNEWS-1\", \"SAN-1\"]\n",
    "\n",
    "# Initialize an instance of the experiment class.\n",
    "mymetaexperiment = ProblemsSolvers(\n",
    "    solver_names=solver_names, problem_names=problem_names\n",
    ")\n",
    "\n",
    "# Write to log file.\n",
    "mymetaexperiment.log_group_experiment_results()\n",
    "\n",
    "# Run a fixed number of macroreplications of each solver on each problem.\n",
    "mymetaexperiment.run(n_macroreps=3)\n",
    "\n",
    "print(\"Post-processing results.\")\n",
    "# Run a fixed number of postreplications at all recommended solutions.\n",
    "mymetaexperiment.post_replicate(n_postreps=50)\n",
    "# Find an optimal solution x* for normalization.\n",
    "mymetaexperiment.post_normalize(n_postreps_init_opt=50)\n",
    "\n",
    "print(\"Plotting results.\")\n",
    "# Produce basic plots of the solvers on the problems.\n",
    "plot_solvability_profiles(\n",
    "    experiments=mymetaexperiment.experiments, plot_type=PlotType.CDF_SOLVABILITY\n",
    ")\n",
    "\n",
    "# Plots will be saved in the folder experiments/plots.\n",
    "print(\"Finished. Plots can be found in experiments/plots folder.\")"
   ]
  }
 ],
 "metadata": {
  "language_info": {
   "name": "python"
  }
 },
 "nbformat": 4,
 "nbformat_minor": 5
}
