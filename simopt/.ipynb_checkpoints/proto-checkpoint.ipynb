{
 "cells": [
  {
   "cell_type": "code",
   "execution_count": 1,
   "id": "4fcffa73",
   "metadata": {},
   "outputs": [],
   "source": [
    "from models.sscont import SSCont\n",
    "from rng.mrg32k3a import MRG32k3a"
   ]
  },
  {
   "cell_type": "code",
   "execution_count": 2,
   "id": "b9c9cdd4",
   "metadata": {},
   "outputs": [],
   "source": [
    "model = SSCont({'n_days':100})\n",
    "rng_list = [MRG32k3a(s_ss_sss_index=[0,0,0]), MRG32k3a(s_ss_sss_index=[1,0,0])]"
   ]
  },
  {
   "cell_type": "code",
   "execution_count": 3,
   "id": "962a18d5",
   "metadata": {},
   "outputs": [
    {
     "data": {
      "text/plain": [
       "({'avg_backorder_costs': 41.56232356027367,\n",
       "  'avg_order_costs': 223.1229957855399,\n",
       "  'avg_holding_costs': 788.1964534262252,\n",
       "  'on_time_rate': 0.9022515741994438,\n",
       "  'order_rate': 0.1,\n",
       "  'stockout_rate': 0.1,\n",
       "  'avg_stockout': 279.0618933880751,\n",
       "  'avg_order': 1097.6149789276994},\n",
       " {'avg_backorder_costs': {'demand_mean': nan,\n",
       "   'lead_mean': nan,\n",
       "   'backorder_cost': nan,\n",
       "   'holding_cost': nan,\n",
       "   'fixed_cost': nan,\n",
       "   'variable_cost': nan,\n",
       "   's': nan,\n",
       "   'S': nan},\n",
       "  'avg_order_costs': {'demand_mean': nan,\n",
       "   'lead_mean': nan,\n",
       "   'backorder_cost': nan,\n",
       "   'holding_cost': nan,\n",
       "   'fixed_cost': nan,\n",
       "   'variable_cost': nan,\n",
       "   's': nan,\n",
       "   'S': nan},\n",
       "  'avg_holding_costs': {'demand_mean': nan,\n",
       "   'lead_mean': nan,\n",
       "   'backorder_cost': nan,\n",
       "   'holding_cost': nan,\n",
       "   'fixed_cost': nan,\n",
       "   'variable_cost': nan,\n",
       "   's': nan,\n",
       "   'S': nan},\n",
       "  'on_time_rate': {'demand_mean': nan,\n",
       "   'lead_mean': nan,\n",
       "   'backorder_cost': nan,\n",
       "   'holding_cost': nan,\n",
       "   'fixed_cost': nan,\n",
       "   'variable_cost': nan,\n",
       "   's': nan,\n",
       "   'S': nan},\n",
       "  'order_rate': {'demand_mean': nan,\n",
       "   'lead_mean': nan,\n",
       "   'backorder_cost': nan,\n",
       "   'holding_cost': nan,\n",
       "   'fixed_cost': nan,\n",
       "   'variable_cost': nan,\n",
       "   's': nan,\n",
       "   'S': nan},\n",
       "  'stockout_rate': {'demand_mean': nan,\n",
       "   'lead_mean': nan,\n",
       "   'backorder_cost': nan,\n",
       "   'holding_cost': nan,\n",
       "   'fixed_cost': nan,\n",
       "   'variable_cost': nan,\n",
       "   's': nan,\n",
       "   'S': nan},\n",
       "  'avg_stockout': {'demand_mean': nan,\n",
       "   'lead_mean': nan,\n",
       "   'backorder_cost': nan,\n",
       "   'holding_cost': nan,\n",
       "   'fixed_cost': nan,\n",
       "   'variable_cost': nan,\n",
       "   's': nan,\n",
       "   'S': nan},\n",
       "  'avg_order': {'demand_mean': nan,\n",
       "   'lead_mean': nan,\n",
       "   'backorder_cost': nan,\n",
       "   'holding_cost': nan,\n",
       "   'fixed_cost': nan,\n",
       "   'variable_cost': nan,\n",
       "   's': nan,\n",
       "   'S': nan}})"
      ]
     },
     "execution_count": 3,
     "metadata": {},
     "output_type": "execute_result"
    }
   ],
   "source": [
    "model.replicate(rng_list)"
   ]
  },
  {
   "cell_type": "code",
   "execution_count": null,
   "id": "b021c5c5",
   "metadata": {},
   "outputs": [],
   "source": [
    "model.replicate(rng_list, gradient_needed=True)"
   ]
  },
  {
   "cell_type": "code",
   "execution_count": null,
   "id": "4215e63f",
   "metadata": {},
   "outputs": [],
   "source": [
    "%%time\n",
    "for i in range(10):\n",
    "    model.replicate(rng_list, gradient_needed=False)"
   ]
  },
  {
   "cell_type": "code",
   "execution_count": null,
   "id": "b7048d59",
   "metadata": {},
   "outputs": [],
   "source": [
    "%%time\n",
    "for i in range(10):\n",
    "    model.replicate(rng_list, gradient_needed=True)"
   ]
  },
  {
   "cell_type": "code",
   "execution_count": null,
   "id": "057e54d8",
   "metadata": {},
   "outputs": [],
   "source": [
    "%%time\n",
    "for i in range(10):\n",
    "    model.replicate(rng_list, response_names=['avg_holding_costs'], gradient_needed=True)"
   ]
  }
 ],
 "metadata": {
  "kernelspec": {
   "display_name": "Python 3",
   "language": "python",
   "name": "python3"
  },
  "language_info": {
   "codemirror_mode": {
    "name": "ipython",
    "version": 3
   },
   "file_extension": ".py",
   "mimetype": "text/x-python",
   "name": "python",
   "nbconvert_exporter": "python",
   "pygments_lexer": "ipython3",
   "version": "3.8.10"
  }
 },
 "nbformat": 4,
 "nbformat_minor": 5
}
